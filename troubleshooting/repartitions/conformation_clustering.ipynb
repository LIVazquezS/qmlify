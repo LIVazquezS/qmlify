{
 "cells": [
  {
   "cell_type": "markdown",
   "metadata": {},
   "source": [
    "# Configurational Space Partitioner"
   ]
  },
  {
   "cell_type": "markdown",
   "metadata": {},
   "source": [
    "In the interest of partitioning the configuration space of small molecules (in different phases), it is necessary to take some dataset of small molecule configurations (hopefully boltzmann distributed) and perform some partitioning."
   ]
  },
  {
   "cell_type": "markdown",
   "metadata": {},
   "source": [
    "## Featurizer"
   ]
  },
  {
   "cell_type": "markdown",
   "metadata": {},
   "source": [
    "I am going to postulate that heavy torsion terms are sufficient to partition the configurational space accordingly. Let's try that...<br>\n",
    "I've been told that [pyEmma](https://github.com/markovmodel/PyEMMA) can perform featurization without much pain..."
   ]
  },
  {
   "cell_type": "markdown",
   "metadata": {},
   "source": [
    "First, I'll load the trajectory into mdtraj"
   ]
  },
  {
   "cell_type": "code",
   "execution_count": 43,
   "metadata": {},
   "outputs": [],
   "source": [
    "import mdtraj as md\n",
    "import numpy as np\n",
    "import pyemma\n",
    "from openforcefield.topology import Molecule\n",
    "import openeye.oechem as oechem"
   ]
  },
  {
   "cell_type": "code",
   "execution_count": 67,
   "metadata": {},
   "outputs": [],
   "source": [
    "traj = md.Trajectory.load('lig0.solvent.forward.pdb')\n",
    "topology = traj.topology\n",
    "openmm_topology = topology.to_openmm()\n",
    "off_mol = Molecule.from_file('lig0.solvent.forward.pdb')\n",
    "template_oemol = off_mol[0].to_openeye()\n",
    "traj.save_xtc('lig0.solvent.forward.xtc') #wasn't saved in a pyemma-safe format"
   ]
  },
  {
   "cell_type": "code",
   "execution_count": 64,
   "metadata": {},
   "outputs": [
    {
     "data": {
      "text/plain": [
       "[Quantity(value=array([[ 8.4659996 ,  5.26000023,  4.27199984],\n",
       "        [ 8.99199963,  5.93599987,  3.24699998],\n",
       "        [ 8.4090004 ,  5.89499998,  1.94200003],\n",
       "        [ 7.25899982,  5.10900021,  1.745     ],\n",
       "        [ 6.81599998,  4.2750001 ,  2.82200003],\n",
       "        [ 7.36600018,  4.4000001 ,  4.1329999 ],\n",
       "        [ 5.43599987,  3.20799994,  2.69899988],\n",
       "        [ 6.54099989,  5.204     ,  0.44299999],\n",
       "        [ 6.15600014,  4.2249999 , -0.09      ],\n",
       "        [ 6.25500011,  6.51200008,  0.014     ],\n",
       "        [ 5.35500002,  6.796     , -1.03199995],\n",
       "        [ 5.0630002 ,  5.91599989, -2.08299994],\n",
       "        [ 4.28299999,  6.34299994, -3.13599992],\n",
       "        [ 3.60700011,  7.5       , -3.20300007],\n",
       "        [ 3.93799996,  8.35400009, -2.2019999 ],\n",
       "        [ 4.78999996,  8.03800011, -1.11600006],\n",
       "        [ 3.23000002,  9.51599979, -2.24099994],\n",
       "        [ 3.22900009, 10.53899956, -1.33200002],\n",
       "        [ 3.88800001, 10.56200027, -0.28400001],\n",
       "        [ 2.27800012, 11.7130003 , -1.60800004],\n",
       "        [ 9.15699959,  6.8130002 ,  0.69300002],\n",
       "        [ 2.35700011, 12.39799976, -0.74199998],\n",
       "        [ 9.04399967,  5.20699978,  5.22900009],\n",
       "        [ 9.72900009,  6.68200016,  3.38499999],\n",
       "        [ 6.96000004,  3.76699996,  4.90600014],\n",
       "        [ 6.28299999,  7.23199987,  0.78500003],\n",
       "        [ 5.41200018,  4.94299984, -2.08500004],\n",
       "        [ 4.15799999,  5.57600021, -3.921     ],\n",
       "        [ 5.06400013,  8.86299992, -0.38999999],\n",
       "        [ 2.62299991,  9.73200035, -3.02900004],\n",
       "        [ 1.24699998, 11.2840004 , -1.73699999],\n",
       "        [ 2.58500004, 12.25300026, -2.5079999 ]]), unit=angstrom)]"
      ]
     },
     "execution_count": 64,
     "metadata": {},
     "output_type": "execute_result"
    }
   ],
   "source": [
    "off_mol[0]._conformers"
   ]
  },
  {
   "cell_type": "code",
   "execution_count": 46,
   "metadata": {},
   "outputs": [
    {
     "data": {
      "text/plain": [
       "<openeye.oechem.OEMol; proxy of <Swig Object of type '_p_OEMolWrapper' at 0x7fcaf94366c0> >"
      ]
     },
     "execution_count": 46,
     "metadata": {},
     "output_type": "execute_result"
    }
   ],
   "source": [
    "template_oemol"
   ]
  },
  {
   "cell_type": "code",
   "execution_count": 53,
   "metadata": {},
   "outputs": [],
   "source": [
    "class IsRotatableOrMacroCycleBond(oechem.OEUnaryBondPred):\n",
    "    \"\"\"\n",
    "    Identifies rotatable bonds and single bonds in macro-cycles.\n",
    "    \"\"\"\n",
    "    def __call__(self, bond):\n",
    "        \"\"\"\n",
    "        :type mol: oechem.OEBondBase\n",
    "        :rtype: boolean\n",
    "        \"\"\"\n",
    "        if bond.GetOrder() != 1:\n",
    "            return False\n",
    "        if bond.IsAromatic():\n",
    "            return False\n",
    "\n",
    "        isrotor = oechem.OEIsRotor()\n",
    "        if isrotor(bond):\n",
    "            return True\n",
    "\n",
    "        if oechem.OEBondGetSmallestRingSize(bond) >= 10:\n",
    "            return True\n",
    "\n",
    "        return False\n",
    "def get_dihedrals(mol, itag):\n",
    "    \"\"\"\n",
    "    Iterates over rotatable bonds and identifies their dihedral\n",
    "    atoms. These atoms are added to the molecule in a group\n",
    "    using the given tag.\n",
    "\n",
    "    :type mol: oechem.OEMol\n",
    "    :type itag: int\n",
    "    :return: Number of dihedral angles identified\n",
    "    :rtype: int\n",
    "    \"\"\"\n",
    "    nrdihedrals = 0\n",
    "    for bond in mol.GetBonds(IsRotatableOrMacroCycleBond()):\n",
    "        atomB = bond.GetBgn()\n",
    "        atomE = bond.GetEnd()\n",
    "\n",
    "        neighB = None\n",
    "        neighE = None\n",
    "\n",
    "        for atom in atomB.GetAtoms(oechem.OEIsHeavy()):\n",
    "            if atom != atomE:\n",
    "                neighB = atom\n",
    "                break\n",
    "        for atom in atomE.GetAtoms(oechem.OEIsHeavy()):\n",
    "            if atom != atomB:\n",
    "                neighE = atom\n",
    "                break\n",
    "\n",
    "        if neighB is None or neighE is None:\n",
    "            continue\n",
    "\n",
    "        atomorder = [neighB, atomB, atomE, neighE]\n",
    "        bondorder = [mol.GetBond(neighB, atomB), bond, mol.GetBond(neighE, atomE)]\n",
    "\n",
    "        if neighB.GetIdx() < neighE.GetIdx():\n",
    "            atomorder.reverse()\n",
    "            bondorder.reverse()\n",
    "\n",
    "        atoms = oechem.OEAtomVector(atomorder)\n",
    "        bonds = oechem.OEBondVector(bondorder)\n",
    "\n",
    "        nrdihedrals += 1\n",
    "        mol.NewGroup(itag, atoms, bonds)\n",
    "\n",
    "    return nrdihedrals"
   ]
  },
  {
   "cell_type": "code",
   "execution_count": 54,
   "metadata": {},
   "outputs": [
    {
     "data": {
      "text/plain": [
       "5"
      ]
     },
     "execution_count": 54,
     "metadata": {},
     "output_type": "execute_result"
    }
   ],
   "source": [
    "get_dihedrals(mol = template_oemol, itag=0)"
   ]
  },
  {
   "cell_type": "code",
   "execution_count": 59,
   "metadata": {},
   "outputs": [],
   "source": [
    "mol = template_oemol\n",
    "itag=0"
   ]
  },
  {
   "cell_type": "code",
   "execution_count": null,
   "metadata": {},
   "outputs": [],
   "source": []
  },
  {
   "cell_type": "code",
   "execution_count": 63,
   "metadata": {},
   "outputs": [
    {
     "name": "stdout",
     "output_type": "stream",
     "text": [
      "17\n",
      "16\n",
      "14\n",
      "13\n",
      "\n",
      "19\n",
      "17\n",
      "16\n",
      "14\n",
      "\n",
      "11\n",
      "10\n",
      "9\n",
      "7\n",
      "\n",
      "10\n",
      "9\n",
      "7\n",
      "8\n",
      "\n",
      "8\n",
      "7\n",
      "3\n",
      "2\n",
      "\n"
     ]
    }
   ],
   "source": [
    "for group in mol.GetGroups(oechem.OEHasGroupType(itag)):\n",
    "    for atom in group.GetAtoms():\n",
    "        print(atom.GetIdx())\n",
    "    print()\n",
    "    "
   ]
  },
  {
   "cell_type": "code",
   "execution_count": 61,
   "metadata": {},
   "outputs": [
    {
     "data": {
      "text/plain": [
       "<openeye.oechem.OEAtomVector; proxy of <Swig Object of type 'std::vector< OEChem::OEAtomBase * > *' at 0x7fcaf35cde70> >"
      ]
     },
     "execution_count": 61,
     "metadata": {},
     "output_type": "execute_result"
    }
   ],
   "source": []
  },
  {
   "cell_type": "code",
   "execution_count": null,
   "metadata": {},
   "outputs": [],
   "source": []
  }
 ],
 "metadata": {
  "kernelspec": {
   "display_name": "Python 3",
   "language": "python",
   "name": "python3"
  },
  "language_info": {
   "codemirror_mode": {
    "name": "ipython",
    "version": 3
   },
   "file_extension": ".py",
   "mimetype": "text/x-python",
   "name": "python",
   "nbconvert_exporter": "python",
   "pygments_lexer": "ipython3",
   "version": "3.6.7"
  }
 },
 "nbformat": 4,
 "nbformat_minor": 4
}
